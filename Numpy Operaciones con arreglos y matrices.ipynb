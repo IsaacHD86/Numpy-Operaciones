{
 "cells": [
  {
   "cell_type": "markdown",
   "id": "93d42784",
   "metadata": {},
   "source": [
    "### 1- Escribe un programa que mediante indexación en NumPy sea capaz de invertir un arreglo (donde el primer elemento se convierte en el último)"
   ]
  },
  {
   "cell_type": "code",
   "execution_count": 7,
   "id": "27472156",
   "metadata": {},
   "outputs": [],
   "source": [
    "import numpy as np"
   ]
  },
  {
   "cell_type": "code",
   "execution_count": 3,
   "id": "a8bd6958",
   "metadata": {},
   "outputs": [
    {
     "data": {
      "text/plain": [
       "array([ 0,  1,  2,  3,  4,  5,  6,  7,  8,  9, 10, 11, 12, 13, 14, 15, 16,\n",
       "       17, 18, 19, 20])"
      ]
     },
     "execution_count": 3,
     "metadata": {},
     "output_type": "execute_result"
    }
   ],
   "source": [
    "invert_arr = np.arange(0,21)\n",
    "invert_arr"
   ]
  },
  {
   "cell_type": "code",
   "execution_count": 5,
   "id": "cf4398be",
   "metadata": {},
   "outputs": [
    {
     "data": {
      "text/plain": [
       "array([20, 19, 18, 17, 16, 15, 14, 13, 12, 11, 10,  9,  8,  7,  6,  5,  4,\n",
       "        3,  2,  1,  0])"
      ]
     },
     "execution_count": 5,
     "metadata": {},
     "output_type": "execute_result"
    }
   ],
   "source": [
    "invert_arr[::-1]  # [start:end:stepsize] invertimos los valores del arreglo"
   ]
  },
  {
   "cell_type": "code",
   "execution_count": 6,
   "id": "29e142ab",
   "metadata": {},
   "outputs": [
    {
     "data": {
      "text/plain": [
       "array([20, 19, 18, 17, 16, 15, 14, 13, 12, 11, 10,  9,  8,  7,  6,  5,  4,\n",
       "        3,  2,  1,  0])"
      ]
     },
     "execution_count": 6,
     "metadata": {},
     "output_type": "execute_result"
    }
   ],
   "source": [
    "# tambien podemos usar flip()\n",
    "\n",
    "np.flip(invert_arr)"
   ]
  },
  {
   "cell_type": "markdown",
   "id": "277796e6",
   "metadata": {},
   "source": [
    "### 2- Escribe un programa con NumPy para convertir valores de grados Fahrenheit a grados centigrados. Los valores se almacenan en un arreglo de salida."
   ]
  },
  {
   "cell_type": "code",
   "execution_count": 20,
   "id": "1976bbf8",
   "metadata": {},
   "outputs": [],
   "source": [
    "arr_far_cent = np.array([0, 12, 45.21, 34, 99.91, 32])\n",
    "arr_far_cent = arr_far_cent.astype(float)"
   ]
  },
  {
   "cell_type": "code",
   "execution_count": 23,
   "id": "904ea443",
   "metadata": {},
   "outputs": [
    {
     "data": {
      "text/plain": [
       "array([-17.78, -11.11,   7.34,   1.11,  37.73,   0.  ])"
      ]
     },
     "execution_count": 23,
     "metadata": {},
     "output_type": "execute_result"
    }
   ],
   "source": [
    "arr_cent = ((arr_far_cent - 32) / 1.8).round(2)\n",
    "arr_cent"
   ]
  },
  {
   "cell_type": "markdown",
   "id": "58ab4fe8",
   "metadata": {},
   "source": [
    "### 3.Escribe un programa con NumPy para encontrar la unión de dos arreglos. La unión debe devolver un arreglo ordenado de valores que están en cualquiera de los dos arreglos de entrada (sin repetición)."
   ]
  },
  {
   "cell_type": "code",
   "execution_count": 27,
   "id": "271c8836",
   "metadata": {},
   "outputs": [],
   "source": [
    "arreglo1 = np.array([0,10,20])\n",
    "arreglo2 = np.array([20,10,30])"
   ]
  },
  {
   "cell_type": "code",
   "execution_count": 42,
   "id": "5d1e97d9",
   "metadata": {},
   "outputs": [],
   "source": [
    "arr_union = np.concatenate((arreglo1, arreglo2))"
   ]
  },
  {
   "cell_type": "code",
   "execution_count": 44,
   "id": "28321645",
   "metadata": {},
   "outputs": [
    {
     "data": {
      "text/plain": [
       "array([ 0, 10, 20, 20, 10, 30])"
      ]
     },
     "execution_count": 44,
     "metadata": {},
     "output_type": "execute_result"
    }
   ],
   "source": [
    "arr_union"
   ]
  },
  {
   "cell_type": "code",
   "execution_count": 47,
   "id": "41523c49",
   "metadata": {},
   "outputs": [
    {
     "data": {
      "text/plain": [
       "array([ 0, 10, 20, 30])"
      ]
     },
     "execution_count": 47,
     "metadata": {},
     "output_type": "execute_result"
    }
   ],
   "source": [
    "arr_ordenado = np.sort(arr_union)\n",
    "arr_result = np.unique(arr_ordenado)\n",
    "arr_result"
   ]
  },
  {
   "cell_type": "code",
   "execution_count": null,
   "id": "05029a86",
   "metadata": {},
   "outputs": [],
   "source": []
  }
 ],
 "metadata": {
  "kernelspec": {
   "display_name": "Python 3 (ipykernel)",
   "language": "python",
   "name": "python3"
  },
  "language_info": {
   "codemirror_mode": {
    "name": "ipython",
    "version": 3
   },
   "file_extension": ".py",
   "mimetype": "text/x-python",
   "name": "python",
   "nbconvert_exporter": "python",
   "pygments_lexer": "ipython3",
   "version": "3.11.5"
  }
 },
 "nbformat": 4,
 "nbformat_minor": 5
}
